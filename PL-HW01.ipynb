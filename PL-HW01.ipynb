{
 "cells": [
  {
   "cell_type": "code",
   "execution_count": 15,
   "metadata": {},
   "outputs": [
    {
     "name": "stdout",
     "output_type": "stream",
     "text": [
      "原始資料(Jack)： {' Husband', ' United-States', '50', ' Bachelors', '0', ' Self-emp-not-inc', ' Married-civ-spouse', ' White', ' Exec-managerial', ' Male', '13', '83311'}\n",
      "原始資料(John)： {'7', ' Husband', ' United-States', '0', ' Handlers-cleaners', ' Married-civ-spouse', '234721', '40', '11th', ' Male', ' Black', '53', ' Private'}\n",
      "聯集： {' Husband', '50', ' White', ' Exec-managerial', '234721', '40', ' Black', '11th', ' Male', ' United-States', ' Self-emp-not-inc', '53', '7', ' Bachelors', '0', ' Handlers-cleaners', ' Married-civ-spouse', '13', '83311', ' Private'}\n",
      "交集： {' Husband', '0', ' Married-civ-spouse', ' Male', ' United-States'}\n",
      "差集： {'50', ' Bachelors', '13', ' White', ' Exec-managerial', ' Self-emp-not-inc', '83311'}\n"
     ]
    }
   ],
   "source": [
    "import pandas as pd\n",
    "\n",
    "# 讀取 CSV 檔案並轉換為 DataFrame\n",
    "df = pd.read_csv('C:/Users/OWNER/Desktop/FILE/PL-HW01.csv')\n",
    "\n",
    "# 將 DataFrame 轉換為 Set 資料型態\n",
    "data_set01 = set(df['Jack'])\n",
    "data_set02 = set(df['John'])\n",
    "\n",
    "# 顯示原始資料\n",
    "print(\"原始資料(Jack)：\", data_set01)\n",
    "print(\"原始資料(John)：\", data_set02)\n",
    "\n",
    "# 計算聯集\n",
    "union_set = data_set01.union(data_set02)\n",
    "print(\"聯集：\", union_set)\n",
    "\n",
    "# 計算交集\n",
    "intersection_set = data_set01.intersection(data_set02)\n",
    "print(\"交集：\", intersection_set)\n",
    "\n",
    "# 計算差集\n",
    "difference_set = data_set01.difference(data_set02)\n",
    "print(\"差集：\", difference_set)\n"
   ]
  }
 ],
 "metadata": {
  "kernelspec": {
   "display_name": "Python 3",
   "language": "python",
   "name": "python3"
  },
  "language_info": {
   "codemirror_mode": {
    "name": "ipython",
    "version": 3
   },
   "file_extension": ".py",
   "mimetype": "text/x-python",
   "name": "python",
   "nbconvert_exporter": "python",
   "pygments_lexer": "ipython3",
   "version": "3.11.5"
  }
 },
 "nbformat": 4,
 "nbformat_minor": 2
}
